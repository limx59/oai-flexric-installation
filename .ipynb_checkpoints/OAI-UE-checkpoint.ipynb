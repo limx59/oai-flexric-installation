{
 "cells": [
  {
   "cell_type": "markdown",
   "metadata": {},
   "source": [
    "# Tutorial: Instalação do equipamento do usuário (UE)"
   ]
  },
  {
   "cell_type": "markdown",
   "metadata": {},
   "source": [
    "ATENÇÃO: Caso ja tenha seguido o tutorial \"Instalação da RAN (gNodeB) e FlexRIC\", pule os passos 1 e 2.\n",
    "\n",
    "# Passo 1: Instalar dependências\n",
    "\n",
    "Em um terminal, execute os comandos abaixo.\n",
    "\n",
    "```bash\n",
    "sudo add-apt-repository ppa:ettusresearch/uhd\n",
    "\n",
    "sudo apt-get install libuhd-dev uhd-host -y\n",
    "\n",
    "sudo apt-get install libuhd4.2.0 -y\n",
    "\n",
    "sudo apt-get install libuhd4.4.0 -y\n",
    "```\n",
    "\n",
    "# Passo 2: Resolver problema de versão da biblioteca libuhd\n",
    "\n",
    "Ao executar os comandos abaixo, caso apareça o erro \"cannot access archive\", pode seguir para o próximo passo.\n",
    "```bash\n",
    "sudo dpkg -i --force-overwrite /var/cache/apt/archives/libuhd4.2.0_4.2.0.1-0ubuntu1~focal1_amd64.deb\n",
    "sudo dpkg -i --force-overwrite /var/cache/apt/archives/libuhd4.4.0_4.4.0.0-0ubuntu1~focal1_amd64.deb\n",
    "```\n",
    "\n",
    "# Passo 3\n",
    "\n",
    "Pendente: Resolver se vai usar o UE do FlexRIC ou do OAI (mais recente)."
   ]
  }
 ],
 "metadata": {
  "kernelspec": {
   "display_name": "Python 3 (ipykernel)",
   "language": "python",
   "name": "python3"
  },
  "language_info": {
   "codemirror_mode": {
    "name": "ipython",
    "version": 3
   },
   "file_extension": ".py",
   "mimetype": "text/x-python",
   "name": "python",
   "nbconvert_exporter": "python",
   "pygments_lexer": "ipython3",
   "version": "3.8.10"
  }
 },
 "nbformat": 4,
 "nbformat_minor": 2
}
